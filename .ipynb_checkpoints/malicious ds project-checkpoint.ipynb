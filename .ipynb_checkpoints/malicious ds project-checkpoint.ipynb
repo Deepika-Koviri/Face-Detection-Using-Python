{
 "cells": [
  {
   "cell_type": "markdown",
   "id": "e56245d3-9e3b-4869-99a1-71b51dd7d9a7",
   "metadata": {},
   "source": [
    "# Step 1: Import Necessary Libraries"
   ]
  },
  {
   "cell_type": "code",
   "execution_count": null,
   "id": "e7131381-1a77-40b8-a322-a88eaea2ae40",
   "metadata": {},
   "outputs": [],
   "source": [
    "import pandas as pd\n",
    "import numpy as np\n",
    "import re\n",
    "import string\n",
    "from sklearn.model_selection import train_test_split\n",
    "from sklearn.feature_extraction.text import TfidfVectorizer\n",
    "from sklearn.ensemble import RandomForestClassifier\n",
    "from sklearn.metrics import accuracy_score, classification_report"
   ]
  },
  {
   "cell_type": "markdown",
   "id": "2522322d-5919-4af8-883e-dd9d7f13c4fc",
   "metadata": {},
   "source": [
    "# Step 2: Load and Explore the Dataset"
   ]
  },
  {
   "cell_type": "code",
   "execution_count": null,
   "id": "7494678f-92ed-4458-a312-e09eb98bc032",
   "metadata": {},
   "outputs": [],
   "source": [
    "df = pd.read_csv(\"malicious.csv\")\n",
    "print(df.head())\n",
    "print(df['type'].value_counts())"
   ]
  },
  {
   "cell_type": "markdown",
   "id": "a91508db-f8b0-4bd6-859f-4a29ab323744",
   "metadata": {},
   "source": [
    "# Step 3: Preprocessing URLs\n",
    "### Extract Features from URLs"
   ]
  },
  {
   "cell_type": "code",
   "execution_count": null,
   "id": "a02baaaf-a972-4cd8-92fe-fbec9a27242f",
   "metadata": {},
   "outputs": [],
   "source": [
    "def extract_features(url):\n",
    "    features = {}\n",
    "    features['length'] = len(url)\n",
    "    features['num_digits'] = sum(c.isdigit() for c in url)\n",
    "    features['num_special_chars'] = len(re.findall(r'[^a-zA-Z0-9]', url))\n",
    "    return features\n",
    "\n",
    "df_features = df['url'].apply(lambda x: extract_features(str(x)))\n",
    "df_features = pd.DataFrame(df_features.tolist())"
   ]
  },
  {
   "cell_type": "markdown",
   "id": "85f0383b-d875-48f0-b4d4-40c1cdc6b514",
   "metadata": {},
   "source": [
    "# Step 4: Convert Text Data to Numerical Format"
   ]
  },
  {
   "cell_type": "code",
   "execution_count": null,
   "id": "f940e77f-18fe-42c5-b64c-24e5e60f8cbd",
   "metadata": {},
   "outputs": [],
   "source": [
    "tfidf = TfidfVectorizer(stop_words='english', max_features=5000)\n",
    "x_tfidf = tfidf.fit_transform(df['url'])"
   ]
  },
  {
   "cell_type": "markdown",
   "id": "3801f712-37db-494f-8a8b-6b73abc04e5b",
   "metadata": {},
   "source": [
    "# Step 5: Prepare Training and Testing Data"
   ]
  },
  {
   "cell_type": "code",
   "execution_count": null,
   "id": "19032f9c-07d3-4fa8-a5a2-29df92a87b5c",
   "metadata": {},
   "outputs": [],
   "source": [
    "from scipy.sparse import hstack, csr_matrix  # Ensure csr_matrix is explicitly imported\n",
    "\n",
    "df_features_sparse = csr_matrix(df_features.values)  # Convert to sparse matrix\n",
    "X = hstack((x_tfidf, df_features_sparse))\n",
    "y = df['type']\n",
    "\n",
    "X_train, X_test, y_train, y_test = train_test_split(X, y, test_size=0.2, random_state=42)"
   ]
  },
  {
   "cell_type": "markdown",
   "id": "5fd6cf8d-9b6b-4d4d-92ce-dfa53188524d",
   "metadata": {},
   "source": [
    "# Step 6: Train a Machine Learning Model"
   ]
  },
  {
   "cell_type": "code",
   "execution_count": null,
   "id": "8cabe449-5d6f-45f6-9e66-8933b3604519",
   "metadata": {},
   "outputs": [],
   "source": [
    "model = RandomForestClassifier(n_estimators=100, random_state=42)\n",
    "model.fit(X_train, y_train)"
   ]
  },
  {
   "cell_type": "markdown",
   "id": "0ec416a6-bf5c-46f6-bff8-1b5a00f8a2d4",
   "metadata": {},
   "source": [
    "# Step 7: Evaluate the Model"
   ]
  },
  {
   "cell_type": "code",
   "execution_count": null,
   "id": "bdd2fcb8-2550-4b39-976b-c4230d86e11c",
   "metadata": {},
   "outputs": [],
   "source": [
    "y_pred = model.predict(X_test)\n",
    "print(\"Accuracy:\", accuracy_score(y_test, y_pred))\n",
    "print(\"Classification Report:\\n\", classification_report(y_test, y_pred))"
   ]
  },
  {
   "cell_type": "markdown",
   "id": "f370f3ae-e0e4-4675-9d93-9b50077f1148",
   "metadata": {},
   "source": [
    "# Step 8: Predict New URLs"
   ]
  },
  {
   "cell_type": "code",
   "execution_count": null,
   "id": "9f3a0c14-0be8-4eba-a4e3-dd654fecf939",
   "metadata": {},
   "outputs": [],
   "source": [
    "def predict_url(url):\n",
    "    features = extract_features(url)\n",
    "    features_df = pd.DataFrame([features])\n",
    "    features_sparse = csr_matrix(features_df.values)  # Convert to sparse matrix\n",
    "    url_tfidf = tfidf.transform([url])\n",
    "    X_new = hstack((url_tfidf, features_sparse))\n",
    "    return model.predict(X_new)[0]\n",
    "\n",
    "print(predict_url(\"http://malicious-example.com\"))"
   ]
  },
  {
   "cell_type": "code",
   "execution_count": null,
   "id": "38502ab5-2a64-4bf6-a3e3-514df472df70",
   "metadata": {},
   "outputs": [],
   "source": []
  }
 ],
 "metadata": {
  "kernelspec": {
   "display_name": "Python 3 (ipykernel)",
   "language": "python",
   "name": "python3"
  },
  "language_info": {
   "codemirror_mode": {
    "name": "ipython",
    "version": 3
   },
   "file_extension": ".py",
   "mimetype": "text/x-python",
   "name": "python",
   "nbconvert_exporter": "python",
   "pygments_lexer": "ipython3",
   "version": "3.11.7"
  }
 },
 "nbformat": 4,
 "nbformat_minor": 5
}
